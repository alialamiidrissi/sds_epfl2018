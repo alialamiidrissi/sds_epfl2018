{
 "cells": [
  {
   "cell_type": "code",
   "execution_count": 1,
   "metadata": {
    "collapsed": true
   },
   "outputs": [],
   "source": [
    "\n",
    "import grpc\n",
    "import SVM_pb2\n",
    "import SVM_pb2_grpc\n",
    "import sys \n",
    "import numpy as np\n",
    "from multiprocessing import Pool\n",
    "\n",
    "\n",
    "channels =[]\n",
    "\n",
    "nb_batches = 0\n",
    "matrices =None\n",
    "def load_data(path_features,path_label,batch_size):\n",
    "    global nb_batches\n",
    "    features  = open(path_features,'r')\n",
    "    labels = open(path_label,'r')\n",
    "\n",
    "    topics = []\n",
    "    lines = features.readlines()\n",
    "    lines_labels = set([ int(i) for i in labels.readlines()])\n",
    "    labels.close()\n",
    "    features.close()\n",
    "\n",
    "    nb_batches = int(len(lines)/batch_size)\n",
    "    list_data =[]\n",
    "    labels =[]\n",
    "    for i in range(nb_batches):\n",
    "        labels.append([])\n",
    "        list_data.append([])\n",
    "        \n",
    "    order = np.floor(np.random.permutation(len(lines))/batch_size)\n",
    "    for index,line in enumerate(lines):\n",
    "        splitted_line = line.split(' ')\n",
    "        id_line = splitted_line[0]\n",
    "        msg_row = SVM_pb2.Row(label = id_line)\n",
    "        entries = []\n",
    "        for i in range(2,len(splitted_line)):\n",
    "            entry = splitted_line[i].split(':')\n",
    "            entries.append(SVM_pb2.Entry(index = int(entry[0]),value = float(entry[1])))\n",
    "        msg_row.entry.extend(entries)\n",
    "        list_data[int(order[index])].append(msg_row)\n",
    "        labels[int(order[index])].append(1 if int(id_line) in lines_labels else -1)\n",
    "    matrices = []\n",
    "    for i in range(nb_batches):\n",
    "        print('filling batches {}'.format(len(list_data[i])))\n",
    "        matrix = SVM_pb2.Matrix(label = 'data')\n",
    "        matrix.rows.extend(list_data[i])\n",
    "        matrix.categories.extend(labels[i])\n",
    "        matrices.append(matrix)\n",
    "    return matrices\n",
    "\n",
    "\n",
    "\n",
    "\n",
    "\n",
    "\n",
    "\n",
    "def scalar_vec_mul(scalar, vec):\n",
    "    return [scalar*i for i in vec]\n",
    "\n",
    "def scalar_vec_sum(scalar, vec):\n",
    "    return [scalar + i for i in vec]\n",
    "\n",
    "def vec_sum(vec1, vec2):\n",
    "    return [vec1[i] + vec2[i] for i in range(len(vec1))]\n",
    "\n",
    "def vec_mul(vec1, vec2):\n",
    "    num_elements = len(vec1)\n",
    "    result = 0\n",
    "    \n",
    "    for i in range(num_elements):\n",
    "        result += vec1[i]*vec2[i]\n",
    "        \n",
    "    return result\n",
    "    \n",
    "    \n",
    "def mat_mul(mat1, mat2):\n",
    "    \"\"\"mat1 is (_n x _m)\n",
    "       mat2 is (_m x _p )\n",
    "       resulting matrix will be (_n x _p)\n",
    "    \"\"\"\n",
    "    _n = len(mat1)\n",
    "    _m = len(mat1[0])\n",
    "    _p = len(mat2[0])\n",
    "    \n",
    "    result = [[0 for x in range(_p)] for y in range(_n)] \n",
    "    \n",
    "    for i in range(_n):\n",
    "        for j in range(_p):\n",
    "            for k in range(_m):\n",
    "                result[i][j] += mat1[i][k]*mat2[k][j]\n",
    "        \n",
    "    return result\n",
    "    \n",
    "\n",
    "def compute_gradient(param, data_sample, target, lrate=0.2):\n",
    "    \n",
    "    if (target*vec_mul(param, data_sample) < 1):\n",
    "        grad = scalar_vec_mul(-1*target, data_sample)\n",
    "    else:\n",
    "        grad = [0 for x in range(len(param))]\n",
    "    \n",
    "    grad = vec_sum(grad, scalar_vec_mul(2*lrate, param))\n",
    "\n",
    "    return grad\n",
    "    \n",
    "    \n",
    "\n",
    "def send_data(stub):\n",
    "        responses = stub.GetData(iter(matrices))\n",
    "        return responses\n",
    "        \n",
    "\n",
    "def run():\n",
    "    global channels,matrices\n",
    "    matrices = load_data('../data/lyrl2004_vectors_test_pt0.dat','../data/labels.txt',10)\n",
    "    print('Data loaded')\n",
    "    \n",
    "    nb_batches_per_worker = int(len(matrices)/len(channels))\n",
    "    stubs = []\n",
    "    for channel in channels :\n",
    "        stub = SVM_pb2_grpc.SVMStub(grpc.insecure_channel('localhost:{}'.format(channel)))\n",
    "        stubs.append(stub)\n",
    "    p = Pool(len(channels))\n",
    "    responses = p.map(send_data,stub)\n",
    "    for index,response in enumerate(responses):\n",
    "        if response.status == 'OK':\n",
    "            print('Worker {} received data'.format(index))\n",
    "        else :\n",
    "            print('Worker {} did not receive data'.format(index))"
   ]
  },
  {
   "cell_type": "code",
   "execution_count": 75,
   "metadata": {},
   "outputs": [
    {
     "name": "stdout",
     "output_type": "stream",
     "text": [
      "filling batches 100\n",
      "filling batches 100\n",
      "filling batches 100\n",
      "filling batches 100\n",
      "filling batches 100\n",
      "filling batches 100\n",
      "filling batches 100\n",
      "filling batches 100\n",
      "filling batches 100\n",
      "filling batches 100\n"
     ]
    }
   ],
   "source": [
    "matrices = load_data('../sds_epfl2018/data/lyrl2004_vectors_test_pt0.dat','../sds_epfl2018/data/labels.txt',100)"
   ]
  },
  {
   "cell_type": "code",
   "execution_count": 76,
   "metadata": {},
   "outputs": [
    {
     "data": {
      "text/plain": [
       "[9, 10, 14, 18, 12, 13, 20, 14, 9, 15]"
      ]
     },
     "execution_count": 76,
     "metadata": {},
     "output_type": "execute_result"
    }
   ],
   "source": [
    "import functools\n",
    "\n",
    "[functools.reduce(lambda x,y:x+y,mat.categories) for mat in matrices]"
   ]
  },
  {
   "cell_type": "code",
   "execution_count": 61,
   "metadata": {},
   "outputs": [
    {
     "data": {
      "text/plain": [
       "1000"
      ]
     },
     "execution_count": 61,
     "metadata": {},
     "output_type": "execute_result"
    }
   ],
   "source": [
    "len(matrices[1].categories)wefa"
   ]
  },
  {
   "cell_type": "code",
   "execution_count": 1,
   "metadata": {},
   "outputs": [],
   "source": [
    "def make_label_file(label_kept,features,labels):\n",
    "    features  = open(features,'r')\n",
    "    labels = open(labels,'r')\n",
    "    out = open('../data/labels.txt','w')\n",
    "    ids = [(i.split(' ')[0]) for i in features.readlines()]\n",
    "    labels_lines =[]\n",
    "    for elem in labels.readlines():\n",
    "        line = elem.split(' ')\n",
    "        labels_lines.append((line[1],line[0]))\n",
    "    labels_lines = dict(labels_lines)\n",
    "    for id_ in ids:\n",
    "        line_label = labels_lines.get(id_,'O')\n",
    "        if line_label == 'O':\n",
    "            print(id_)\n",
    "        if line_label in label_kept :\n",
    "            out.write('1\\n')\n",
    "        else:\n",
    "            out.write('-1\\n')\n",
    "    features.close()\n",
    "    labels.close()\n",
    "    out.close()\n",
    "\n",
    "    \n"
   ]
  },
  {
   "cell_type": "code",
   "execution_count": 2,
   "metadata": {},
   "outputs": [],
   "source": [
    "make_label_file(['GCAT','ECAT','MCAT'],'../data/lyrl2004_vectors_train.dat','../data/rcv1-v2.topics.qrels')\n"
   ]
  },
  {
   "cell_type": "code",
   "execution_count": null,
   "metadata": {
    "collapsed": true
   },
   "outputs": [],
   "source": []
  }
 ],
 "metadata": {
  "kernelspec": {
   "display_name": "Python [default]",
   "language": "python",
   "name": "python3"
  },
  "language_info": {
   "codemirror_mode": {
    "name": "ipython",
    "version": 3
   },
   "file_extension": ".py",
   "mimetype": "text/x-python",
   "name": "python",
   "nbconvert_exporter": "python",
   "pygments_lexer": "ipython3",
   "version": "3.6.2"
  }
 },
 "nbformat": 4,
 "nbformat_minor": 2
}
